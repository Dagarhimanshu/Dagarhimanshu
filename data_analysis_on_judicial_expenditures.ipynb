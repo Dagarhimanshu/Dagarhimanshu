{
  "metadata": {
    "kernelspec": {
      "language": "python",
      "display_name": "Python 3",
      "name": "python3"
    },
    "language_info": {
      "pygments_lexer": "ipython3",
      "nbconvert_exporter": "python",
      "version": "3.6.4",
      "file_extension": ".py",
      "codemirror_mode": {
        "name": "ipython",
        "version": 3
      },
      "name": "python",
      "mimetype": "text/x-python"
    },
    "kaggle": {
      "accelerator": "none",
      "dataSources": [
        {
          "sourceId": 1590214,
          "sourceType": "datasetVersion",
          "datasetId": 938044
        }
      ],
      "dockerImageVersionId": 30019,
      "isInternetEnabled": false,
      "language": "python",
      "sourceType": "notebook",
      "isGpuEnabled": false
    },
    "colab": {
      "provenance": [],
      "include_colab_link": true
    }
  },
  "nbformat_minor": 0,
  "nbformat": 4,
  "cells": [
    {
      "cell_type": "markdown",
      "metadata": {
        "id": "view-in-github",
        "colab_type": "text"
      },
      "source": [
        "<a href=\"https://colab.research.google.com/github/Dagarhimanshu/Dagarhimanshu/blob/main/data_analysis_on_judicial_expenditures.ipynb\" target=\"_parent\"><img src=\"https://colab.research.google.com/assets/colab-badge.svg\" alt=\"Open In Colab\"/></a>"
      ]
    },
    {
      "cell_type": "code",
      "source": [
        "from google.colab import drive\n",
        "drive.mount('/content/drive')"
      ],
      "metadata": {
        "id": "jldv36kraMKq"
      },
      "execution_count": null,
      "outputs": []
    },
    {
      "cell_type": "code",
      "source": [
        "# This Python 3 environment comes with many helpful analytics libraries installed\n",
        "# It is defined by the kaggle/python Docker image: https://github.com/kaggle/docker-python\n",
        "# For example, here's several helpful packages to load\n",
        "\n",
        "import numpy as np # linear algebra\n",
        "import pandas as pd # data processing, CSV file I/O (e.g. pd.read_csv)\n",
        "\n",
        "# Input data files are available in the read-only \"../input/\" directory\n",
        "# For example, running this (by clicking run or pressing Shift+Enter) will list all files under the input directory\n",
        "\n",
        "import os\n",
        "for dirname, _, filenames in os.walk('/kaggle/input'):\n",
        "    for filename in filenames:\n",
        "        print(os.path.join(dirname, filename))\n",
        "\n",
        "# You can write up to 5GB to the current directory (/kaggle/working/) that gets preserved as output when you create a version using \"Save & Run All\"\n",
        "# You can also write temporary files to /kaggle/temp/, but they won't be saved outside of the current session"
      ],
      "metadata": {
        "_uuid": "8f2839f25d086af736a60e9eeb907d3b93b6e0e5",
        "_cell_guid": "b1076dfc-b9ad-4769-8c92-a6c4dae69d19",
        "trusted": true,
        "id": "58mLoSTEZmka"
      },
      "execution_count": null,
      "outputs": []
    },
    {
      "cell_type": "markdown",
      "source": [
        "# Introduction"
      ],
      "metadata": {
        "id": "QmxFbchmZmkd"
      }
    },
    {
      "cell_type": "markdown",
      "source": [
        "Let's say we wanted to find which 3 variable correlated most with population for judicial expenditures.  "
      ],
      "metadata": {
        "id": "BGs1KAAkZmkf"
      }
    },
    {
      "cell_type": "code",
      "source": [
        "data=pd.read_csv(\"/content/drive/MyDrive/Colab Notebooks/case_data.csv\")\n",
        "print('data successfully loaded.')"
      ],
      "metadata": {
        "_uuid": "d629ff2d2480ee46fbb7e2d37f6b5fab8052498a",
        "_cell_guid": "79c7e3d0-c299-4dcb-8224-4455121ee9b0",
        "trusted": true,
        "id": "e5OzX2wlZmkf"
      },
      "execution_count": null,
      "outputs": []
    },
    {
      "cell_type": "markdown",
      "source": [
        "# Preliminary Data Exploration"
      ],
      "metadata": {
        "id": "0HmZgOIaZmkf"
      }
    },
    {
      "cell_type": "code",
      "source": [
        "data.shape"
      ],
      "metadata": {
        "trusted": true,
        "id": "qn-qMdZzZmkg"
      },
      "execution_count": null,
      "outputs": []
    },
    {
      "cell_type": "markdown",
      "source": [
        "As we can see, the dataframe has 52 rows and 11 columns.  As there are 50 states, this leaves the question of why there are 52 rows."
      ],
      "metadata": {
        "id": "ECnJ1-7RZmkg"
      }
    },
    {
      "cell_type": "code",
      "source": [
        "data.head()"
      ],
      "metadata": {
        "trusted": true,
        "id": "XZeceJs1Zmkg"
      },
      "execution_count": null,
      "outputs": []
    },
    {
      "cell_type": "markdown",
      "source": [
        "The '0' index row is the total count for the whole country, explaining one of the extra values.  I suspect that the other value is Washington, D.C., so I look at the total column \"State.\""
      ],
      "metadata": {
        "id": "kNbg3sZsZmkg"
      }
    },
    {
      "cell_type": "code",
      "source": [
        "data['State']"
      ],
      "metadata": {
        "trusted": true,
        "id": "gp3AmvI_Zmkh"
      },
      "execution_count": null,
      "outputs": []
    },
    {
      "cell_type": "markdown",
      "source": [
        "In row 9, this suspision is confirmed by the value \"District of Columbia.\"  Going forward, this means that we can disregard the first row in our analysis and include the District of Columbia as if it were a state.  Next, we check for null values."
      ],
      "metadata": {
        "id": "U2m5CXB2Zmkh"
      }
    },
    {
      "cell_type": "code",
      "source": [
        "data.isnull().sum()"
      ],
      "metadata": {
        "trusted": true,
        "id": "GjonAmExZmki"
      },
      "execution_count": null,
      "outputs": []
    },
    {
      "cell_type": "markdown",
      "source": [
        "As we can see, there are no null values in this dataset, making our job much easier.  "
      ],
      "metadata": {
        "id": "ztpJ55B5Zmki"
      }
    },
    {
      "cell_type": "markdown",
      "source": [
        "# Numerical Analysis"
      ],
      "metadata": {
        "id": "eaL5_MPLZmki"
      }
    },
    {
      "cell_type": "code",
      "source": [
        "data.describe()"
      ],
      "metadata": {
        "trusted": true,
        "id": "z19wwMVcZmki"
      },
      "execution_count": null,
      "outputs": []
    },
    {
      "cell_type": "markdown",
      "source": [
        "The greatest spread is in the Total Justice System expenditures Per Capita, as measured by the standard deviation.  "
      ],
      "metadata": {
        "id": "SlhEk2esZmkj"
      }
    },
    {
      "cell_type": "markdown",
      "source": [
        "To do some exploratory data visualization, we will use a sample of the largest states by population."
      ],
      "metadata": {
        "id": "yp9usmGLZmkj"
      }
    },
    {
      "cell_type": "code",
      "source": [
        "plot1data=data.nlargest(10, ['Population 2016'])\n",
        "plot1data"
      ],
      "metadata": {
        "trusted": true,
        "id": "Ws_N8EStZmkj"
      },
      "execution_count": null,
      "outputs": []
    },
    {
      "cell_type": "code",
      "source": [
        "import matplotlib.pyplot as plt"
      ],
      "metadata": {
        "trusted": true,
        "id": "hOe8ymUOZmkj"
      },
      "execution_count": null,
      "outputs": []
    },
    {
      "cell_type": "code",
      "source": [
        "plot1data.plot.bar(x='State',y='Population 2016')"
      ],
      "metadata": {
        "trusted": true,
        "id": "urWYAWgcZmkk"
      },
      "execution_count": null,
      "outputs": []
    },
    {
      "cell_type": "markdown",
      "source": [
        "Unsurprisingly, the row for the total population skews the graph and makes it harder to read.  We will correct this by creating a new dataframe without the \"total\" row.  "
      ],
      "metadata": {
        "id": "1_xaXWQqZmkk"
      }
    },
    {
      "cell_type": "code",
      "source": [
        "plot2data=plot1data.iloc[1:10]\n",
        "plot2data"
      ],
      "metadata": {
        "trusted": true,
        "id": "UVTwAUa0Zmkk"
      },
      "execution_count": null,
      "outputs": []
    },
    {
      "cell_type": "markdown",
      "source": [
        "The new dataframe looks good, with the states listed by population."
      ],
      "metadata": {
        "id": "FLYfrVShZmkk"
      }
    },
    {
      "cell_type": "code",
      "source": [
        "plot2data.plot.bar(x='State',y='Population 2016')"
      ],
      "metadata": {
        "trusted": true,
        "id": "NSSk_9LgZmkk"
      },
      "execution_count": null,
      "outputs": []
    },
    {
      "cell_type": "markdown",
      "source": [
        "As we can see, the graph is more readable now."
      ],
      "metadata": {
        "id": "okYsF__EZmkl"
      }
    },
    {
      "cell_type": "markdown",
      "source": [
        "Now, we can explore correlations between the various factors for the most populous states."
      ],
      "metadata": {
        "id": "kQYOvHFIZmkl"
      }
    },
    {
      "cell_type": "code",
      "source": [
        "# plot2data.corr()\n",
        "# plot2data.dtypes\n",
        "plot2data['Population 2016'] = pd.to_numeric(plot2data['Population 2016'], errors='coerce')"
      ],
      "metadata": {
        "trusted": true,
        "id": "_cNGtk6rZmkl"
      },
      "execution_count": null,
      "outputs": []
    },
    {
      "cell_type": "code",
      "source": [
        "# plot2data = plot2data[pd.to_numeric(plot2data['Population 2016'], errors='coerce').notnull()]\n",
        "plot2data.plot.bar(x='State',y='Population 2016')\n",
        "\n",
        "plot2data.corr()\n"
      ],
      "metadata": {
        "id": "3Wpw9_4jbv_J"
      },
      "execution_count": null,
      "outputs": []
    },
    {
      "cell_type": "markdown",
      "source": [
        "Now, let's see which 3 variables correlate the most with population (notice how the index is 4 because the top correlation will be the variable with itself)..."
      ],
      "metadata": {
        "id": "NVLL8VBFZmkl"
      }
    },
    {
      "cell_type": "code",
      "source": [
        "# plot2data.corr().nlargest(4,['Population 2016'])\n",
        "plot2data.drop('State', axis=1).corr().nlargest(4,['Population 2016'])"
      ],
      "metadata": {
        "trusted": true,
        "id": "-VAo5aNjZmkl"
      },
      "execution_count": null,
      "outputs": []
    },
    {
      "cell_type": "markdown",
      "source": [
        "...and we plot the results."
      ],
      "metadata": {
        "id": "z0TQEb6MZmkm"
      }
    },
    {
      "cell_type": "code",
      "source": [
        "plot2data.plot.bar(x='State',y='Population 2016')\n",
        "plot2data.plot.bar(x='State',y='Corrections PC')\n",
        "plot2data.plot.bar(x='State',y='Total justice system PC ')\n",
        "plot2data.plot.bar(x='State',y='Judicial and legal PC')"
      ],
      "metadata": {
        "trusted": true,
        "id": "Uhvug_Q1Zmkm"
      },
      "execution_count": null,
      "outputs": []
    },
    {
      "cell_type": "markdown",
      "source": [
        "# Conclusion"
      ],
      "metadata": {
        "id": "nX9NuSRqZmkm"
      }
    },
    {
      "cell_type": "markdown",
      "source": [
        "We can see that the three variables in justice system expenditures that correlate the most with the population of the 9 biggest states by population are corrections per capita, total justice system expenditures per capita, and judicial and legal expenditures per capita.  Further work may be done to increase precision, such as removing or adjusting the outlying states of California and New York, which have such visibly higher values than the next closest states."
      ],
      "metadata": {
        "id": "Oxj3NU-gZmkm"
      }
    }
  ]
}